{
 "cells": [
  {
   "cell_type": "code",
   "execution_count": 1,
   "metadata": {
    "collapsed": true
   },
   "outputs": [],
   "source": [
    "import re\n",
    "import pandas as pd"
   ]
  },
  {
   "cell_type": "code",
   "execution_count": 2,
   "metadata": {
    "collapsed": true
   },
   "outputs": [],
   "source": [
    "df = pd.read_table(\"cfp.tsv\")"
   ]
  },
  {
   "cell_type": "code",
   "execution_count": 3,
   "metadata": {
    "collapsed": false
   },
   "outputs": [
    {
     "data": {
      "text/html": [
       "<div>\n",
       "<table border=\"1\" class=\"dataframe\">\n",
       "  <thead>\n",
       "    <tr style=\"text-align: right;\">\n",
       "      <th></th>\n",
       "      <th>title</th>\n",
       "      <th>n_votes</th>\n",
       "      <th>n_comments</th>\n",
       "      <th>year</th>\n",
       "      <th>speaker_links</th>\n",
       "      <th>content_urls</th>\n",
       "      <th>speaker_info</th>\n",
       "      <th>target_audience</th>\n",
       "      <th>section</th>\n",
       "      <th>type</th>\n",
       "      <th>last_updated</th>\n",
       "      <th>prerequisites</th>\n",
       "      <th>description</th>\n",
       "    </tr>\n",
       "  </thead>\n",
       "  <tbody>\n",
       "    <tr>\n",
       "      <th>0</th>\n",
       "      <td>Consuming Government Data with Python and D3</td>\n",
       "      <td>58</td>\n",
       "      <td>0</td>\n",
       "      <td>2015</td>\n",
       "      <td>Talks:You can reach me at GitHub and Twitter</td>\n",
       "      <td>NaN</td>\n",
       "      <td>Pratap Vardhan is a Data Scientist at Gramener...</td>\n",
       "      <td>Intermediate</td>\n",
       "      <td>Data Visualization and Analytics</td>\n",
       "      <td>Talks</td>\n",
       "      <td>03 Sep, 2015</td>\n",
       "      <td>NaN</td>\n",
       "      <td>The explosion of open data, especially governm...</td>\n",
       "    </tr>\n",
       "    <tr>\n",
       "      <th>1</th>\n",
       "      <td>Don’t get scared, Get Started!</td>\n",
       "      <td>19</td>\n",
       "      <td>1</td>\n",
       "      <td>2015</td>\n",
       "      <td>Tapasweni PathakShaifali Agrawal</td>\n",
       "      <td>TBA</td>\n",
       "      <td>Tapasweni PathakI have done bachelors in IT fr...</td>\n",
       "      <td>Beginner</td>\n",
       "      <td>Others</td>\n",
       "      <td>Talks</td>\n",
       "      <td>31 May, 2015</td>\n",
       "      <td>Nothing.....other than your passion for coding.</td>\n",
       "      <td>Opensource world is full of excitement, knowle...</td>\n",
       "    </tr>\n",
       "    <tr>\n",
       "      <th>2</th>\n",
       "      <td>Distributed scheduling leveraging multiple nod...</td>\n",
       "      <td>4</td>\n",
       "      <td>0</td>\n",
       "      <td>2015</td>\n",
       "      <td>http://glusterhacker.blogspot.in/</td>\n",
       "      <td>http://www.gluster.org/community/documentation...</td>\n",
       "      <td>I am a software engineer at Red Hat Inc., work...</td>\n",
       "      <td>Beginner</td>\n",
       "      <td>Concurrency</td>\n",
       "      <td>Talks</td>\n",
       "      <td>27 Apr, 2015</td>\n",
       "      <td>A basic understanding of how a distributed sys...</td>\n",
       "      <td>Setting up a cron job in a machine, is perhaps...</td>\n",
       "    </tr>\n",
       "    <tr>\n",
       "      <th>3</th>\n",
       "      <td>Analyzing Python code with Pylint</td>\n",
       "      <td>22</td>\n",
       "      <td>0</td>\n",
       "      <td>2015</td>\n",
       "      <td>Pylint contributionsCPython contributions</td>\n",
       "      <td>The project pageBitbucket forgeDocumentationPr...</td>\n",
       "      <td>I'm an open source enthusiast coming from Roma...</td>\n",
       "      <td>Intermediate</td>\n",
       "      <td>Others</td>\n",
       "      <td>Talks</td>\n",
       "      <td>21 Sep, 2015</td>\n",
       "      <td>The participants should have a basic understan...</td>\n",
       "      <td>Given the dynamic nature of Python, some bugs ...</td>\n",
       "    </tr>\n",
       "    <tr>\n",
       "      <th>4</th>\n",
       "      <td>Python 3 Metaprogramming, Macros, Madness &amp; More!</td>\n",
       "      <td>70</td>\n",
       "      <td>0</td>\n",
       "      <td>2015</td>\n",
       "      <td>NaN</td>\n",
       "      <td>Github repository for the code that accompanie...</td>\n",
       "      <td>Suhas is a Data Scientist at Gramener, and was...</td>\n",
       "      <td>Intermediate</td>\n",
       "      <td>Core Python</td>\n",
       "      <td>Talks</td>\n",
       "      <td>03 Sep, 2015</td>\n",
       "      <td>NaN</td>\n",
       "      <td>SummaryEver wanted to conquer the world, but j...</td>\n",
       "    </tr>\n",
       "  </tbody>\n",
       "</table>\n",
       "</div>"
      ],
      "text/plain": [
       "                                               title  n_votes  n_comments  \\\n",
       "0       Consuming Government Data with Python and D3       58           0   \n",
       "1                     Don’t get scared, Get Started!       19           1   \n",
       "2  Distributed scheduling leveraging multiple nod...        4           0   \n",
       "3                  Analyzing Python code with Pylint       22           0   \n",
       "4  Python 3 Metaprogramming, Macros, Madness & More!       70           0   \n",
       "\n",
       "   year                                 speaker_links  \\\n",
       "0  2015  Talks:You can reach me at GitHub and Twitter   \n",
       "1  2015              Tapasweni PathakShaifali Agrawal   \n",
       "2  2015             http://glusterhacker.blogspot.in/   \n",
       "3  2015     Pylint contributionsCPython contributions   \n",
       "4  2015                                           NaN   \n",
       "\n",
       "                                        content_urls  \\\n",
       "0                                                NaN   \n",
       "1                                                TBA   \n",
       "2  http://www.gluster.org/community/documentation...   \n",
       "3  The project pageBitbucket forgeDocumentationPr...   \n",
       "4  Github repository for the code that accompanie...   \n",
       "\n",
       "                                        speaker_info target_audience  \\\n",
       "0  Pratap Vardhan is a Data Scientist at Gramener...    Intermediate   \n",
       "1  Tapasweni PathakI have done bachelors in IT fr...        Beginner   \n",
       "2  I am a software engineer at Red Hat Inc., work...        Beginner   \n",
       "3  I'm an open source enthusiast coming from Roma...    Intermediate   \n",
       "4  Suhas is a Data Scientist at Gramener, and was...    Intermediate   \n",
       "\n",
       "                            section   type  last_updated  \\\n",
       "0  Data Visualization and Analytics  Talks  03 Sep, 2015   \n",
       "1                            Others  Talks  31 May, 2015   \n",
       "2                       Concurrency  Talks  27 Apr, 2015   \n",
       "3                            Others  Talks  21 Sep, 2015   \n",
       "4                       Core Python  Talks  03 Sep, 2015   \n",
       "\n",
       "                                       prerequisites  \\\n",
       "0                                                NaN   \n",
       "1    Nothing.....other than your passion for coding.   \n",
       "2  A basic understanding of how a distributed sys...   \n",
       "3  The participants should have a basic understan...   \n",
       "4                                                NaN   \n",
       "\n",
       "                                         description  \n",
       "0  The explosion of open data, especially governm...  \n",
       "1  Opensource world is full of excitement, knowle...  \n",
       "2  Setting up a cron job in a machine, is perhaps...  \n",
       "3  Given the dynamic nature of Python, some bugs ...  \n",
       "4  SummaryEver wanted to conquer the world, but j...  "
      ]
     },
     "execution_count": 3,
     "metadata": {},
     "output_type": "execute_result"
    }
   ],
   "source": [
    "df.head()"
   ]
  },
  {
   "cell_type": "code",
   "execution_count": 4,
   "metadata": {
    "collapsed": true
   },
   "outputs": [],
   "source": [
    "sel_2015 = {\n",
    "    \"talks\": \"\"\"\n",
    "        simple hacks to make your django website faster\n",
    "        pretty printing in python\n",
    "        machine learning techniques for building a large scale\n",
    "        laying out your django projects\n",
    "        python and riakdb\n",
    "        building flexible filesystems with fuse-python\n",
    "        symengine: the future fast core of computer algebra systems\n",
    "        test driven development with ansible\n",
    "        explore big data using simple python code\n",
    "        introduction to nipype and how do we create\n",
    "        python load balancer: 0 to 1 million requests per second\n",
    "        creating, deployment & customizing\n",
    "        building nextgen iot solutions\n",
    "        consuming government data with python and d3\n",
    "        python traceback for humans\n",
    "        how to build microservices using zeromq and wsgi\n",
    "        rip nagios. hello docker shinken\n",
    "        building offensive web security framework in python\n",
    "        how to detect phishing urls using pyspark decision trees\n",
    "        fedmsg: the message bus of fedora infrastructure\n",
    "        concurrent data processing in python\n",
    "        analyzing arguments during a debate using natural language processing\n",
    "        avoiding common pitfalls of datetime from a webapp\n",
    "        python 2 metaprogramming, macros, madness & more\n",
    "        rest apis - what, why and how\n",
    "        solving logical puzzles with natural language processing\n",
    "\"\"\",\n",
    "    \"workshops\": \"\"\"\n",
    "        getting started with ansible\n",
    "        let's learn statistics\n",
    "        using devstack to contribute to openstack\n",
    "        building nextgen iot solutions using python and cloud\n",
    "        reasoning under uncertainty with python\n",
    "        python on your mobile phone(advanced concepts)\n",
    "        django projects the right way\n",
    "        symbolic computation with python, sympy\n",
    "        thinking in functions\n",
    "        \"\"\"\n",
    "    }"
   ]
  },
  {
   "cell_type": "code",
   "execution_count": 5,
   "metadata": {
    "collapsed": true
   },
   "outputs": [],
   "source": [
    "sel_2016 = {\n",
    "    \"talks\": \"\"\"\n",
    "        hacking the python ast\n",
    "        helix and salt: case study in high volume and distributed python applications\n",
    "        realtime microservices with server side flux\n",
    "        building an automatic keyphrase extraction system using nltk\n",
    "        testing native binaries using cffi and py.test\n",
    "        the trends in choosing licenses in python ecosystems\n",
    "        good bye, call stack; hello, event driven architectures\n",
    "        algorithmic music generation\n",
    "        python byte code hacks\n",
    "        load testing using locust.io\n",
    "        continuous integration for data scientists\n",
    "        building companion chatbot with python\n",
    "        deploying your python backend with\n",
    "        big data analysis using pyspark\n",
    "        flying a drone\n",
    "        containerize upstream projects effortlessly\n",
    "        financial modelling and simulation with python\n",
    "        micropython - porting python to microcontrollers\n",
    "        creating a recommendation engine based on nlp and contextual\n",
    "        open source health monitoring and evaluation systems\n",
    "        concurrency in modern robots\n",
    "        building a secure iot platform using paho and flask\n",
    "        don't write tests, generate them\n",
    "        real time sentiment analysis with apache storm and python\n",
    "    \"\"\",\n",
    "    \"workshops\": \"\"\"\n",
    "        building a lie detector: multi-modal sentiment analysis\n",
    "        docker workshop\n",
    "        talking to machines: optimizing neural networks with theano\n",
    "        productive coding with pycharm\n",
    "        demystifying the django rest framework\n",
    "        scaling django with kubernetes\n",
    "    \"\"\"\n",
    "}"
   ]
  },
  {
   "cell_type": "code",
   "execution_count": 6,
   "metadata": {
    "collapsed": true
   },
   "outputs": [],
   "source": [
    "df['proposal_type'] = \"\""
   ]
  },
  {
   "cell_type": "code",
   "execution_count": 7,
   "metadata": {
    "collapsed": true
   },
   "outputs": [],
   "source": [
    "df['selected'] = False"
   ]
  },
  {
   "cell_type": "code",
   "execution_count": 17,
   "metadata": {
    "collapsed": false
   },
   "outputs": [
    {
     "name": "stdout",
     "output_type": "stream",
     "text": [
      "the trends in choosing licenses in python ecosystems\n",
      "talking to machines: optimizing neural networks with theano\n"
     ]
    },
    {
     "name": "stderr",
     "output_type": "stream",
     "text": [
      "/Users/jaidevd/anaconda/lib/python2.7/site-packages/ipykernel/__main__.py:5: UserWarning: Boolean Series key will be reindexed to match DataFrame index.\n"
     ]
    }
   ],
   "source": [
    "for proposal_type, proposals in sel_2016.iteritems():\n",
    "    proposals = [p.lstrip().rstrip() for p in proposals.splitlines()]\n",
    "    proposals = [p for p in proposals if p]\n",
    "    for proposal in proposals:\n",
    "        rel_ix = df[df.title.str.contains(proposal, case=False)][df.year == 2016].index\n",
    "        if rel_ix.shape[0] != 1:\n",
    "            print proposal\n",
    "        else:\n",
    "            df.loc[rel_ix[0], \"selected\"] = True\n",
    "            df.loc[rel_ix[0], \"proposal_type\"] = proposal_type"
   ]
  },
  {
   "cell_type": "code",
   "execution_count": 20,
   "metadata": {
    "collapsed": false
   },
   "outputs": [
    {
     "data": {
      "text/html": [
       "<div>\n",
       "<table border=\"1\" class=\"dataframe\">\n",
       "  <thead>\n",
       "    <tr style=\"text-align: right;\">\n",
       "      <th></th>\n",
       "      <th>title</th>\n",
       "      <th>n_votes</th>\n",
       "      <th>n_comments</th>\n",
       "      <th>year</th>\n",
       "      <th>speaker_links</th>\n",
       "      <th>content_urls</th>\n",
       "      <th>speaker_info</th>\n",
       "      <th>target_audience</th>\n",
       "      <th>section</th>\n",
       "      <th>type</th>\n",
       "      <th>last_updated</th>\n",
       "      <th>prerequisites</th>\n",
       "      <th>description</th>\n",
       "      <th>proposal_type</th>\n",
       "      <th>selected</th>\n",
       "    </tr>\n",
       "  </thead>\n",
       "  <tbody>\n",
       "    <tr>\n",
       "      <th>174</th>\n",
       "      <td>Theano &amp; Keras: Teaching Python to 'learn' Eng...</td>\n",
       "      <td>19</td>\n",
       "      <td>1</td>\n",
       "      <td>2016</td>\n",
       "      <td>Github \\n LinkedIn \\n Academia</td>\n",
       "      <td>Theano:\\nLanguage Modeling: A blog  by Andrej ...</td>\n",
       "      <td>I am a free software enthusiast and researcher...</td>\n",
       "      <td>Intermediate</td>\n",
       "      <td>Scientific Computing</td>\n",
       "      <td>Talks</td>\n",
       "      <td>11 Jun, 2016</td>\n",
       "      <td>Understanding of Machine Learning algorithms i...</td>\n",
       "      <td>The main intention of the talk is to introduce...</td>\n",
       "      <td></td>\n",
       "      <td>False</td>\n",
       "    </tr>\n",
       "    <tr>\n",
       "      <th>214</th>\n",
       "      <td>Talking to Machines : Optimizing Neural Networ...</td>\n",
       "      <td>6</td>\n",
       "      <td>0</td>\n",
       "      <td>2016</td>\n",
       "      <td>NaN</td>\n",
       "      <td>NaN</td>\n",
       "      <td>Deep Learning and Robotics enthusiast, present...</td>\n",
       "      <td>Intermediate</td>\n",
       "      <td>Scientific Computing</td>\n",
       "      <td>Workshops</td>\n",
       "      <td>28 Jul, 2016</td>\n",
       "      <td>While most of the topics are introduced in the...</td>\n",
       "      <td>With recent advances in the field of Deep Lear...</td>\n",
       "      <td></td>\n",
       "      <td>False</td>\n",
       "    </tr>\n",
       "  </tbody>\n",
       "</table>\n",
       "</div>"
      ],
      "text/plain": [
       "                                                 title  n_votes  n_comments  \\\n",
       "174  Theano & Keras: Teaching Python to 'learn' Eng...       19           1   \n",
       "214  Talking to Machines : Optimizing Neural Networ...        6           0   \n",
       "\n",
       "     year                   speaker_links  \\\n",
       "174  2016  Github \\n LinkedIn \\n Academia   \n",
       "214  2016                             NaN   \n",
       "\n",
       "                                          content_urls  \\\n",
       "174  Theano:\\nLanguage Modeling: A blog  by Andrej ...   \n",
       "214                                                NaN   \n",
       "\n",
       "                                          speaker_info target_audience  \\\n",
       "174  I am a free software enthusiast and researcher...    Intermediate   \n",
       "214  Deep Learning and Robotics enthusiast, present...    Intermediate   \n",
       "\n",
       "                  section       type  last_updated  \\\n",
       "174  Scientific Computing      Talks  11 Jun, 2016   \n",
       "214  Scientific Computing  Workshops  28 Jul, 2016   \n",
       "\n",
       "                                         prerequisites  \\\n",
       "174  Understanding of Machine Learning algorithms i...   \n",
       "214  While most of the topics are introduced in the...   \n",
       "\n",
       "                                           description proposal_type selected  \n",
       "174  The main intention of the talk is to introduce...                  False  \n",
       "214  With recent advances in the field of Deep Lear...                  False  "
      ]
     },
     "execution_count": 20,
     "metadata": {},
     "output_type": "execute_result"
    }
   ],
   "source": [
    "df[df.title.str.contains('theano', case=False)]"
   ]
  },
  {
   "cell_type": "code",
   "execution_count": 21,
   "metadata": {
    "collapsed": true
   },
   "outputs": [],
   "source": [
    "df.loc[214, \"selected\"] = True"
   ]
  },
  {
   "cell_type": "code",
   "execution_count": 22,
   "metadata": {
    "collapsed": false
   },
   "outputs": [
    {
     "data": {
      "text/plain": [
       "False    225\n",
       "True      64\n",
       "Name: selected, dtype: int64"
      ]
     },
     "execution_count": 22,
     "metadata": {},
     "output_type": "execute_result"
    }
   ],
   "source": [
    "df.selected.value_counts()"
   ]
  },
  {
   "cell_type": "code",
   "execution_count": 23,
   "metadata": {
    "collapsed": true
   },
   "outputs": [],
   "source": [
    "df.to_csv(\"tagged.tsv\", sep=\"\\t\", index=False)"
   ]
  },
  {
   "cell_type": "code",
   "execution_count": null,
   "metadata": {
    "collapsed": true
   },
   "outputs": [],
   "source": []
  }
 ],
 "metadata": {
  "kernelspec": {
   "display_name": "Python 2",
   "language": "python",
   "name": "python2"
  },
  "language_info": {
   "codemirror_mode": {
    "name": "ipython",
    "version": 2
   },
   "file_extension": ".py",
   "mimetype": "text/x-python",
   "name": "python",
   "nbconvert_exporter": "python",
   "pygments_lexer": "ipython2",
   "version": "2.7.10"
  }
 },
 "nbformat": 4,
 "nbformat_minor": 0
}
