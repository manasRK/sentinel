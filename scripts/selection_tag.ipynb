{
 "cells": [
  {
   "cell_type": "code",
   "execution_count": 1,
   "metadata": {
    "collapsed": true
   },
   "outputs": [],
   "source": [
    "import re\n",
    "import pandas as pd"
   ]
  },
  {
   "cell_type": "code",
   "execution_count": 2,
   "metadata": {
    "collapsed": true
   },
   "outputs": [],
   "source": [
    "df = pd.read_table(\"cfp.tsv\")"
   ]
  },
  {
   "cell_type": "code",
   "execution_count": 3,
   "metadata": {
    "collapsed": false
   },
   "outputs": [
    {
     "data": {
      "text/html": [
       "<div>\n",
       "<table border=\"1\" class=\"dataframe\">\n",
       "  <thead>\n",
       "    <tr style=\"text-align: right;\">\n",
       "      <th></th>\n",
       "      <th>title</th>\n",
       "      <th>content_urls</th>\n",
       "      <th>description</th>\n",
       "      <th>n_comments</th>\n",
       "      <th>prerequisites</th>\n",
       "      <th>speaker_info</th>\n",
       "      <th>speaker_links</th>\n",
       "      <th>year</th>\n",
       "    </tr>\n",
       "  </thead>\n",
       "  <tbody>\n",
       "    <tr>\n",
       "      <th>0</th>\n",
       "      <td>Consuming Government Data with Python and D3</td>\n",
       "      <td>NaN</td>\n",
       "      <td>The explosion of open data, especially governm...</td>\n",
       "      <td>0</td>\n",
       "      <td>NaN</td>\n",
       "      <td>Pratap Vardhan is a Data Scientist at Gramener...</td>\n",
       "      <td>Talks:You can reach me at GitHub and Twitter</td>\n",
       "      <td>2015</td>\n",
       "    </tr>\n",
       "    <tr>\n",
       "      <th>1</th>\n",
       "      <td>Don’t get scared, Get Started!</td>\n",
       "      <td>TBA</td>\n",
       "      <td>Opensource world is full of excitement, knowle...</td>\n",
       "      <td>1</td>\n",
       "      <td>Nothing.....other than your passion for coding.</td>\n",
       "      <td>Tapasweni PathakI have done bachelors in IT fr...</td>\n",
       "      <td>Tapasweni PathakShaifali Agrawal</td>\n",
       "      <td>2015</td>\n",
       "    </tr>\n",
       "    <tr>\n",
       "      <th>2</th>\n",
       "      <td>Distributed scheduling leveraging multiple nod...</td>\n",
       "      <td>http://www.gluster.org/community/documentation...</td>\n",
       "      <td>Setting up a cron job in a machine, is perhaps...</td>\n",
       "      <td>0</td>\n",
       "      <td>A basic understanding of how a distributed sys...</td>\n",
       "      <td>I am a software engineer at Red Hat Inc., work...</td>\n",
       "      <td>http://glusterhacker.blogspot.in/</td>\n",
       "      <td>2015</td>\n",
       "    </tr>\n",
       "    <tr>\n",
       "      <th>3</th>\n",
       "      <td>Analyzing Python code with Pylint</td>\n",
       "      <td>The project pageBitbucket forgeDocumentationPr...</td>\n",
       "      <td>Given the dynamic nature of Python, some bugs ...</td>\n",
       "      <td>0</td>\n",
       "      <td>The participants should have a basic understan...</td>\n",
       "      <td>I'm an open source enthusiast coming from Roma...</td>\n",
       "      <td>Pylint contributionsCPython contributions</td>\n",
       "      <td>2015</td>\n",
       "    </tr>\n",
       "    <tr>\n",
       "      <th>4</th>\n",
       "      <td>Python 3 Metaprogramming, Macros, Madness &amp; More!</td>\n",
       "      <td>Github repository for the code that accompanie...</td>\n",
       "      <td>SummaryEver wanted to conquer the world, but j...</td>\n",
       "      <td>0</td>\n",
       "      <td>NaN</td>\n",
       "      <td>Suhas is a Data Scientist at Gramener, and was...</td>\n",
       "      <td>NaN</td>\n",
       "      <td>2015</td>\n",
       "    </tr>\n",
       "  </tbody>\n",
       "</table>\n",
       "</div>"
      ],
      "text/plain": [
       "                                               title  \\\n",
       "0       Consuming Government Data with Python and D3   \n",
       "1                     Don’t get scared, Get Started!   \n",
       "2  Distributed scheduling leveraging multiple nod...   \n",
       "3                  Analyzing Python code with Pylint   \n",
       "4  Python 3 Metaprogramming, Macros, Madness & More!   \n",
       "\n",
       "                                        content_urls  \\\n",
       "0                                                NaN   \n",
       "1                                                TBA   \n",
       "2  http://www.gluster.org/community/documentation...   \n",
       "3  The project pageBitbucket forgeDocumentationPr...   \n",
       "4  Github repository for the code that accompanie...   \n",
       "\n",
       "                                         description  n_comments  \\\n",
       "0  The explosion of open data, especially governm...           0   \n",
       "1  Opensource world is full of excitement, knowle...           1   \n",
       "2  Setting up a cron job in a machine, is perhaps...           0   \n",
       "3  Given the dynamic nature of Python, some bugs ...           0   \n",
       "4  SummaryEver wanted to conquer the world, but j...           0   \n",
       "\n",
       "                                       prerequisites  \\\n",
       "0                                                NaN   \n",
       "1    Nothing.....other than your passion for coding.   \n",
       "2  A basic understanding of how a distributed sys...   \n",
       "3  The participants should have a basic understan...   \n",
       "4                                                NaN   \n",
       "\n",
       "                                        speaker_info  \\\n",
       "0  Pratap Vardhan is a Data Scientist at Gramener...   \n",
       "1  Tapasweni PathakI have done bachelors in IT fr...   \n",
       "2  I am a software engineer at Red Hat Inc., work...   \n",
       "3  I'm an open source enthusiast coming from Roma...   \n",
       "4  Suhas is a Data Scientist at Gramener, and was...   \n",
       "\n",
       "                                  speaker_links  year  \n",
       "0  Talks:You can reach me at GitHub and Twitter  2015  \n",
       "1              Tapasweni PathakShaifali Agrawal  2015  \n",
       "2             http://glusterhacker.blogspot.in/  2015  \n",
       "3     Pylint contributionsCPython contributions  2015  \n",
       "4                                           NaN  2015  "
      ]
     },
     "execution_count": 3,
     "metadata": {},
     "output_type": "execute_result"
    }
   ],
   "source": [
    "df.head()"
   ]
  },
  {
   "cell_type": "code",
   "execution_count": 4,
   "metadata": {
    "collapsed": true
   },
   "outputs": [],
   "source": [
    "sel_2015 = {\n",
    "    \"talks\": \"\"\"\n",
    "        simple hacks to make your django website faster\n",
    "        pretty printing in python\n",
    "        machine learning techniques for building a large scale\n",
    "        laying out your django projects\n",
    "        python and riakdb\n",
    "        building flexible filesystems with fuse-python\n",
    "        symengine: the future fast core of computer algebra systems\n",
    "        test driven development with ansible\n",
    "        explore big data using simple python code\n",
    "        introduction to nipype and how do we create\n",
    "        python load balancer: 0 to 1 million requests per second\n",
    "        creating, deployment & customizing\n",
    "        building nextgen iot solutions\n",
    "        consuming government data with python and d3\n",
    "        python traceback for humans\n",
    "        how to build microservices using zeromq and wsgi\n",
    "        rip nagios. hello docker shinken\n",
    "        building offensive web security framework in python\n",
    "        how to detect phishing urls using pyspark decision trees\n",
    "        fedmsg: the message bus of fedora infrastructure\n",
    "        concurrent data processing in python\n",
    "        analyzing arguments during a debate using natural language processing\n",
    "        avoiding common pitfalls of datetime from a webapp\n",
    "        python 2 metaprogramming, macros, madness & more\n",
    "        rest apis - what, why and how\n",
    "        solving logical puzzles with natural language processing\n",
    "\"\"\",\n",
    "    \"workshops\": \"\"\"\n",
    "        getting started with ansible\n",
    "        let's learn statistics\n",
    "        using devstack to contribute to openstack\n",
    "        building nextgen iot solutions using python and cloud\n",
    "        reasoning under uncertainty with python\n",
    "        python on your mobile phone(advanced concepts)\n",
    "        django projects the right way\n",
    "        symbolic computation with python, sympy\n",
    "        thinking in functions\n",
    "        \"\"\"\n",
    "    }"
   ]
  },
  {
   "cell_type": "code",
   "execution_count": 5,
   "metadata": {
    "collapsed": true
   },
   "outputs": [],
   "source": [
    "sel_2016 = {\n",
    "    \"talks\": \"\"\"\n",
    "        building a scalable nba sports analytics platform using python data stack\n",
    "        hacking the python ast\n",
    "        helix and salt: case study in high volume and distributed python applications\n",
    "        realtime microservices with server side flux\n",
    "        building an automatic keyphrase extraction system using nltk\n",
    "        testing native binaries using cffi and py.test\n",
    "        the trends in choosing licenses in python ecosystems\n",
    "        good bye, call stack; hello, event driven architectures\n",
    "        algorithmic music generation\n",
    "        python byte code hacks\n",
    "        load testing using locust.io\n",
    "        continuous integration for data scientists\n",
    "        building companion chatbot with python\n",
    "        deploying your python backend with\n",
    "        big data analysis using pyspark\n",
    "        flying a drone\n",
    "        containerize upstream projects effortlessly\n",
    "        financial modelling and simulation with python\n",
    "        micropython - porting python to microcontrollers\n",
    "        creating a recommendation engine based on nlp and contextual\n",
    "        open source health monitoring and evaluation systems\n",
    "        concurrency in modern robots\n",
    "        building a secure iot platform using paho and flask\n",
    "        don't write tests, generate them\n",
    "        real time sentiment analysis with apache storm and python\n",
    "    \"\"\",\n",
    "    \"workshops\": \"\"\"\n",
    "        building a lie detector: multi-modal sentiment analysis\n",
    "        docker workshop\n",
    "        talking to machines: optimizing neural networks with theano\n",
    "        productive coding with pycharm\n",
    "        demystifying the django rest framework\n",
    "        scaling django with kubernetes\n",
    "    \"\"\"\n",
    "}"
   ]
  },
  {
   "cell_type": "code",
   "execution_count": 6,
   "metadata": {
    "collapsed": true
   },
   "outputs": [],
   "source": [
    "df['proposal_type'] = \"\""
   ]
  },
  {
   "cell_type": "code",
   "execution_count": 7,
   "metadata": {
    "collapsed": true
   },
   "outputs": [],
   "source": [
    "df['selected'] = False"
   ]
  },
  {
   "cell_type": "code",
   "execution_count": 11,
   "metadata": {
    "collapsed": false
   },
   "outputs": [
    {
     "name": "stdout",
     "output_type": "stream",
     "text": [
      "the trends in choosing licenses in python ecosystems\n",
      "containerize upstream projects effortlessly\n",
      "talking to machines: optimizing neural networks with theano\n"
     ]
    },
    {
     "name": "stderr",
     "output_type": "stream",
     "text": [
      "/Users/jaidevd/anaconda/lib/python2.7/site-packages/ipykernel/__main__.py:5: UserWarning: Boolean Series key will be reindexed to match DataFrame index.\n"
     ]
    }
   ],
   "source": [
    "for proposal_type, proposals in sel_2016.iteritems():\n",
    "    proposals = [p.lstrip().rstrip() for p in proposals.splitlines()]\n",
    "    proposals = [p for p in proposals if p]\n",
    "    for proposal in proposals:\n",
    "        rel_ix = df[df.title.str.contains(proposal, case=False)][df.year == 2016].index\n",
    "        if rel_ix.shape[0] != 1:\n",
    "            print proposal\n",
    "        else:\n",
    "            df.loc[rel_ix[0], \"selected\"] = True\n",
    "            df.loc[rel_ix[0], \"proposal_type\"] = proposal_type"
   ]
  },
  {
   "cell_type": "code",
   "execution_count": null,
   "metadata": {
    "collapsed": true
   },
   "outputs": [],
   "source": []
  }
 ],
 "metadata": {
  "kernelspec": {
   "display_name": "Python 2",
   "language": "python",
   "name": "python2"
  },
  "language_info": {
   "codemirror_mode": {
    "name": "ipython",
    "version": 2
   },
   "file_extension": ".py",
   "mimetype": "text/x-python",
   "name": "python",
   "nbconvert_exporter": "python",
   "pygments_lexer": "ipython2",
   "version": "2.7.10"
  }
 },
 "nbformat": 4,
 "nbformat_minor": 0
}
