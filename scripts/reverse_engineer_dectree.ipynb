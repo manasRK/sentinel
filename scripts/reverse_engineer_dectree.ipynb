{
 "cells": [
  {
   "cell_type": "code",
   "execution_count": 1,
   "metadata": {
    "collapsed": true
   },
   "outputs": [],
   "source": [
    "import pandas as pd\n",
    "import numpy as np\n",
    "import matplotlib.pyplot as plt\n",
    "%matplotlib inline"
   ]
  },
  {
   "cell_type": "code",
   "execution_count": 2,
   "metadata": {
    "collapsed": true
   },
   "outputs": [],
   "source": [
    "df = pd.read_table(\"tagged.csv\")"
   ]
  },
  {
   "cell_type": "code",
   "execution_count": 3,
   "metadata": {
    "collapsed": true
   },
   "outputs": [],
   "source": [
    "categoricals = []\n",
    "for col in \"section target_audience type\".split():\n",
    "    categoricals.append(pd.get_dummies(df[col]))\n",
    "dfCat = pd.concat(categoricals, axis=1)"
   ]
  },
  {
   "cell_type": "code",
   "execution_count": 4,
   "metadata": {
    "collapsed": true
   },
   "outputs": [],
   "source": [
    "dfBool = df['speaker_link_present content_url_present'.split()].astype(int)"
   ]
  },
  {
   "cell_type": "code",
   "execution_count": 5,
   "metadata": {
    "collapsed": true
   },
   "outputs": [],
   "source": [
    "dfNum = df['n_comments deadlinediff'.split()]"
   ]
  },
  {
   "cell_type": "code",
   "execution_count": 6,
   "metadata": {
    "collapsed": false
   },
   "outputs": [],
   "source": [
    "feats = [dfCat, dfBool, dfNum]"
   ]
  },
  {
   "cell_type": "code",
   "execution_count": 7,
   "metadata": {
    "collapsed": false
   },
   "outputs": [],
   "source": [
    "xdf = pd.concat(feats, axis=1)\n",
    "xdf['selected'] = df['selected']"
   ]
  },
  {
   "cell_type": "code",
   "execution_count": 8,
   "metadata": {
    "collapsed": false
   },
   "outputs": [
    {
     "data": {
      "text/html": [
       "<div>\n",
       "<table border=\"1\" class=\"dataframe\">\n",
       "  <thead>\n",
       "    <tr style=\"text-align: right;\">\n",
       "      <th></th>\n",
       "      <th>concurrency</th>\n",
       "      <th>core python</th>\n",
       "      <th>data visualization analytics</th>\n",
       "      <th>embedded python</th>\n",
       "      <th>infrastructure</th>\n",
       "      <th>network programming</th>\n",
       "      <th>others</th>\n",
       "      <th>python k</th>\n",
       "      <th>scientific computing</th>\n",
       "      <th>security</th>\n",
       "      <th>...</th>\n",
       "      <th>advanced</th>\n",
       "      <th>beginner</th>\n",
       "      <th>intermediate</th>\n",
       "      <th>talks</th>\n",
       "      <th>workshops</th>\n",
       "      <th>speaker_link_present</th>\n",
       "      <th>content_url_present</th>\n",
       "      <th>n_comments</th>\n",
       "      <th>deadlinediff</th>\n",
       "      <th>selected</th>\n",
       "    </tr>\n",
       "  </thead>\n",
       "  <tbody>\n",
       "    <tr>\n",
       "      <th>0</th>\n",
       "      <td>0.0</td>\n",
       "      <td>0.0</td>\n",
       "      <td>1.0</td>\n",
       "      <td>0.0</td>\n",
       "      <td>0.0</td>\n",
       "      <td>0.0</td>\n",
       "      <td>0.0</td>\n",
       "      <td>0.0</td>\n",
       "      <td>0.0</td>\n",
       "      <td>0.0</td>\n",
       "      <td>...</td>\n",
       "      <td>0.0</td>\n",
       "      <td>0.0</td>\n",
       "      <td>1.0</td>\n",
       "      <td>1.0</td>\n",
       "      <td>0.0</td>\n",
       "      <td>0</td>\n",
       "      <td>0</td>\n",
       "      <td>0</td>\n",
       "      <td>-94</td>\n",
       "      <td>True</td>\n",
       "    </tr>\n",
       "    <tr>\n",
       "      <th>1</th>\n",
       "      <td>0.0</td>\n",
       "      <td>0.0</td>\n",
       "      <td>0.0</td>\n",
       "      <td>0.0</td>\n",
       "      <td>0.0</td>\n",
       "      <td>0.0</td>\n",
       "      <td>1.0</td>\n",
       "      <td>0.0</td>\n",
       "      <td>0.0</td>\n",
       "      <td>0.0</td>\n",
       "      <td>...</td>\n",
       "      <td>0.0</td>\n",
       "      <td>1.0</td>\n",
       "      <td>0.0</td>\n",
       "      <td>1.0</td>\n",
       "      <td>0.0</td>\n",
       "      <td>0</td>\n",
       "      <td>0</td>\n",
       "      <td>1</td>\n",
       "      <td>1</td>\n",
       "      <td>False</td>\n",
       "    </tr>\n",
       "    <tr>\n",
       "      <th>2</th>\n",
       "      <td>1.0</td>\n",
       "      <td>0.0</td>\n",
       "      <td>0.0</td>\n",
       "      <td>0.0</td>\n",
       "      <td>0.0</td>\n",
       "      <td>0.0</td>\n",
       "      <td>0.0</td>\n",
       "      <td>0.0</td>\n",
       "      <td>0.0</td>\n",
       "      <td>0.0</td>\n",
       "      <td>...</td>\n",
       "      <td>0.0</td>\n",
       "      <td>1.0</td>\n",
       "      <td>0.0</td>\n",
       "      <td>1.0</td>\n",
       "      <td>0.0</td>\n",
       "      <td>1</td>\n",
       "      <td>1</td>\n",
       "      <td>0</td>\n",
       "      <td>35</td>\n",
       "      <td>False</td>\n",
       "    </tr>\n",
       "    <tr>\n",
       "      <th>3</th>\n",
       "      <td>0.0</td>\n",
       "      <td>0.0</td>\n",
       "      <td>0.0</td>\n",
       "      <td>0.0</td>\n",
       "      <td>0.0</td>\n",
       "      <td>0.0</td>\n",
       "      <td>1.0</td>\n",
       "      <td>0.0</td>\n",
       "      <td>0.0</td>\n",
       "      <td>0.0</td>\n",
       "      <td>...</td>\n",
       "      <td>0.0</td>\n",
       "      <td>0.0</td>\n",
       "      <td>1.0</td>\n",
       "      <td>1.0</td>\n",
       "      <td>0.0</td>\n",
       "      <td>0</td>\n",
       "      <td>0</td>\n",
       "      <td>0</td>\n",
       "      <td>-112</td>\n",
       "      <td>False</td>\n",
       "    </tr>\n",
       "    <tr>\n",
       "      <th>4</th>\n",
       "      <td>0.0</td>\n",
       "      <td>1.0</td>\n",
       "      <td>0.0</td>\n",
       "      <td>0.0</td>\n",
       "      <td>0.0</td>\n",
       "      <td>0.0</td>\n",
       "      <td>0.0</td>\n",
       "      <td>0.0</td>\n",
       "      <td>0.0</td>\n",
       "      <td>0.0</td>\n",
       "      <td>...</td>\n",
       "      <td>0.0</td>\n",
       "      <td>0.0</td>\n",
       "      <td>1.0</td>\n",
       "      <td>1.0</td>\n",
       "      <td>0.0</td>\n",
       "      <td>0</td>\n",
       "      <td>0</td>\n",
       "      <td>0</td>\n",
       "      <td>-94</td>\n",
       "      <td>True</td>\n",
       "    </tr>\n",
       "  </tbody>\n",
       "</table>\n",
       "<p>5 rows × 23 columns</p>\n",
       "</div>"
      ],
      "text/plain": [
       "   concurrency  core python  data visualization analytics  embedded python  \\\n",
       "0          0.0          0.0                           1.0              0.0   \n",
       "1          0.0          0.0                           0.0              0.0   \n",
       "2          1.0          0.0                           0.0              0.0   \n",
       "3          0.0          0.0                           0.0              0.0   \n",
       "4          0.0          1.0                           0.0              0.0   \n",
       "\n",
       "   infrastructure  network programming  others  python k  \\\n",
       "0             0.0                  0.0     0.0       0.0   \n",
       "1             0.0                  0.0     1.0       0.0   \n",
       "2             0.0                  0.0     0.0       0.0   \n",
       "3             0.0                  0.0     1.0       0.0   \n",
       "4             0.0                  0.0     0.0       0.0   \n",
       "\n",
       "   scientific computing  security    ...     advanced  beginner  intermediate  \\\n",
       "0                   0.0       0.0    ...          0.0       0.0           1.0   \n",
       "1                   0.0       0.0    ...          0.0       1.0           0.0   \n",
       "2                   0.0       0.0    ...          0.0       1.0           0.0   \n",
       "3                   0.0       0.0    ...          0.0       0.0           1.0   \n",
       "4                   0.0       0.0    ...          0.0       0.0           1.0   \n",
       "\n",
       "   talks  workshops  speaker_link_present  content_url_present  n_comments  \\\n",
       "0    1.0        0.0                     0                    0           0   \n",
       "1    1.0        0.0                     0                    0           1   \n",
       "2    1.0        0.0                     1                    1           0   \n",
       "3    1.0        0.0                     0                    0           0   \n",
       "4    1.0        0.0                     0                    0           0   \n",
       "\n",
       "   deadlinediff  selected  \n",
       "0           -94      True  \n",
       "1             1     False  \n",
       "2            35     False  \n",
       "3          -112     False  \n",
       "4           -94      True  \n",
       "\n",
       "[5 rows x 23 columns]"
      ]
     },
     "execution_count": 8,
     "metadata": {},
     "output_type": "execute_result"
    }
   ],
   "source": [
    "xdf.head()"
   ]
  },
  {
   "cell_type": "code",
   "execution_count": 10,
   "metadata": {
    "collapsed": false
   },
   "outputs": [
    {
     "data": {
      "text/plain": [
       "False    189\n",
       "Name: selected, dtype: int64"
      ]
     },
     "execution_count": 10,
     "metadata": {},
     "output_type": "execute_result"
    }
   ],
   "source": [
    "xdf[xdf.deadlinediff > -25.5].selected.value_counts()"
   ]
  },
  {
   "cell_type": "code",
   "execution_count": 16,
   "metadata": {
    "collapsed": false
   },
   "outputs": [
    {
     "name": "stdout",
     "output_type": "stream",
     "text": [
      "True     1\n",
      "False    1\n",
      "Name: selected, dtype: int64\n",
      "False    2\n",
      "Name: selected, dtype: int64\n"
     ]
    }
   ],
   "source": [
    "sdf = xdf[xdf.deadlinediff <= -87]\n",
    "sdf = sdf[sdf.others == 1]\n",
    "print sdf[sdf.n_comments == 0]['selected'].value_counts()\n",
    "print sdf[sdf.n_comments != 0]['selected'].value_counts()"
   ]
  },
  {
   "cell_type": "code",
   "execution_count": 18,
   "metadata": {
    "collapsed": false
   },
   "outputs": [
    {
     "name": "stdout",
     "output_type": "stream",
     "text": [
      "True     1\n",
      "False    1\n",
      "Name: selected, dtype: int64\n"
     ]
    }
   ],
   "source": [
    "sdf = xdf[xdf.deadlinediff <= -87]\n",
    "sdf = sdf[sdf.others == 0]\n",
    "print sdf[sdf['embedded python'] == 1]['selected'].value_counts()"
   ]
  },
  {
   "cell_type": "code",
   "execution_count": 19,
   "metadata": {
    "collapsed": false
   },
   "outputs": [
    {
     "data": {
      "text/plain": [
       "True     1\n",
       "False    1\n",
       "Name: selected, dtype: int64"
      ]
     },
     "execution_count": 19,
     "metadata": {},
     "output_type": "execute_result"
    }
   ],
   "source": [
    "xdf[xdf.deadlinediff <= -127.5]['selected'].value_counts()"
   ]
  },
  {
   "cell_type": "code",
   "execution_count": 23,
   "metadata": {
    "collapsed": false
   },
   "outputs": [
    {
     "name": "stdout",
     "output_type": "stream",
     "text": [
      "False    2\n",
      "Name: selected, dtype: int64\n"
     ]
    }
   ],
   "source": [
    "sdf = xdf[xdf.deadlinediff <= -87]\n",
    "sdf = sdf[sdf.others == 1]\n",
    "sdf = sdf[sdf.n_comments > 0]\n",
    "print sdf.selected.value_counts()"
   ]
  },
  {
   "cell_type": "code",
   "execution_count": 26,
   "metadata": {
    "collapsed": false
   },
   "outputs": [
    {
     "name": "stdout",
     "output_type": "stream",
     "text": [
      "True     26\n",
      "False     3\n",
      "Name: selected, dtype: int64\n"
     ]
    }
   ],
   "source": [
    "sdf = xdf[xdf.deadlinediff <= -25.5]\n",
    "#sdf = sdf[sdf.deadlinediff > -87.0]\n",
    "sdf = sdf[sdf.deadlinediff > -42.5]\n",
    "print sdf.selected.value_counts()"
   ]
  },
  {
   "cell_type": "code",
   "execution_count": 27,
   "metadata": {
    "collapsed": true
   },
   "outputs": [],
   "source": [
    "dd = xdf.deadlinediff.values"
   ]
  },
  {
   "cell_type": "code",
   "execution_count": 29,
   "metadata": {
    "collapsed": false
   },
   "outputs": [
    {
     "data": {
      "text/plain": [
       "False    226\n",
       "True      64\n",
       "Name: selected, dtype: int64"
      ]
     },
     "execution_count": 29,
     "metadata": {},
     "output_type": "execute_result"
    }
   ],
   "source": [
    "xdf.selected.value_counts()"
   ]
  },
  {
   "cell_type": "code",
   "execution_count": 34,
   "metadata": {
    "collapsed": false
   },
   "outputs": [
    {
     "data": {
      "text/plain": [
       "False    16\n",
       "Name: selected, dtype: int64"
      ]
     },
     "execution_count": 34,
     "metadata": {},
     "output_type": "execute_result"
    }
   ],
   "source": [
    "xdf[np.c_[dd <= -25.5, dd > -87, dd <= -42.5, dd > -44.5].prod(1).astype(bool)]['selected'].value_counts()"
   ]
  },
  {
   "cell_type": "code",
   "execution_count": 35,
   "metadata": {
    "collapsed": false
   },
   "outputs": [
    {
     "data": {
      "text/plain": [
       "False    4\n",
       "Name: selected, dtype: int64"
      ]
     },
     "execution_count": 35,
     "metadata": {},
     "output_type": "execute_result"
    }
   ],
   "source": [
    "xdf[np.c_[dd <= -25.5, dd > -87, dd <= -42.5, dd > -74.5, dd > -69.5, dd <= -47.5].prod(1).astype(bool)]['selected'].value_counts()"
   ]
  }
 ],
 "metadata": {
  "kernelspec": {
   "display_name": "Python 2",
   "language": "python",
   "name": "python2"
  },
  "language_info": {
   "codemirror_mode": {
    "name": "ipython",
    "version": 2
   },
   "file_extension": ".py",
   "mimetype": "text/x-python",
   "name": "python",
   "nbconvert_exporter": "python",
   "pygments_lexer": "ipython2",
   "version": "2.7.10"
  }
 },
 "nbformat": 4,
 "nbformat_minor": 0
}
